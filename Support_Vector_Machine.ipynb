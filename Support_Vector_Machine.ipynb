{
 "cells": [
  {
   "cell_type": "markdown",
   "metadata": {
    "id": "scK9Lw-ybTiW"
   },
   "source": [
    "# Support Vector Machines\n",
    "\n",
    "In this section of the assignment, you will get to implement Support Vector Machines which are among the best (and many believe are indeed the best)“off-the-shelf” supervised learning algorithm.\n",
    "\n",
    "This section is further divided into 3 subsections.\n",
    "\n",
    "\n",
    "*   In the first subsection, you will work on a synthetic dataset and visualize the boundary predicted by SVM. You will also vary the value of C-parameter and see how the decision boundary changes. **Please note that you cannot use inbuilt sklearn function for SVM in this sub-section**. You can only use a QCQP (Quadratically Constrained Quadratic Program) solver like CVXPY. \n",
    "\n",
    "  References which you may find helpful for this subsection: \n",
    "  \n",
    "  1.   https://www.cvxpy.org/\n",
    "  2.   https://www.cvxpy.org/examples/basic/quadratic_program.html\n",
    "\n",
    "  Note that in this section you are expected to show how you derived the Quadratically Constrained form(which can be passed into the solver) from the basic principles of SVM algorithm\n",
    "*  In the next subsection you will use be using the famous MNIST dataset to explore various kernels and report the results. **Please note you may use inbuilt sklearn SVM functions in this subsection**\n"
   ]
  },
  {
   "cell_type": "code",
   "execution_count": 1,
   "metadata": {
    "id": "aoF5U81ebTin",
    "scrolled": true
   },
   "outputs": [],
   "source": [
    "import numpy as np\n",
    "import cvxpy as cp\n",
    "from cvxpy import *\n",
    "import matplotlib.pyplot as plt\n",
    "from sklearn.metrics import f1_score,confusion_matrix,accuracy_score,classification_report"
   ]
  },
  {
   "cell_type": "markdown",
   "metadata": {
    "id": "aBIVjsuZbTiq"
   },
   "source": [
    "### Subsection 1"
   ]
  },
  {
   "cell_type": "code",
   "execution_count": 2,
   "metadata": {
    "id": "0kUTIMicbTir"
   },
   "outputs": [],
   "source": [
    "# Feel free to use this helper function to visualize 2D points X with labels +1 or -1\n",
    "def plot_points(X, Y):\n",
    "    reds = []\n",
    "    blues = []\n",
    "    for i in range(Y.shape[0]):\n",
    "        if Y[i] == 1:\n",
    "            reds.append(X[i])\n",
    "        else:\n",
    "            blues.append(X[i])\n",
    "    reds = np.array(reds)\n",
    "    blues = np.array(blues)\n",
    "    plt.scatter(reds[:, 0], reds[:, 1], c = 'r')\n",
    "    plt.scatter(blues[:, 0], blues[:, 1], c = 'b')"
   ]
  },
  {
   "cell_type": "code",
   "execution_count": 3,
   "metadata": {
    "colab": {
     "base_uri": "https://localhost:8080/",
     "height": 282
    },
    "id": "LLL563JsbTit",
    "outputId": "adb48ace-b52e-4330-873c-184110db2f58"
   },
   "outputs": [
    {
     "name": "stdout",
     "output_type": "stream",
     "text": [
      "(16, 2) (16,)\n"
     ]
    },
    {
     "data": {
      "image/png": "[encoded data removed]",
      "text/plain": [
       "<Figure size 432x288 with 1 Axes>"
      ]
     },
     "metadata": {
      "needs_background": "light"
     },
     "output_type": "display_data"
    }
   ],
   "source": [
    "# Create Synthetic Data and visualize the points\n",
    "X = np.array([[-3.5, -1], [-3, 0], [-3, 1], [-2.7, -1.3], [-2, -1], [-2, -2.7], \n",
    "              [-1, -2.5], [0, -3], [-1.1, 0], [0, 2.5], [1, 2], [0.7, 4], \n",
    "              [2.1, 0.2], [2.3, 1], [2.8, 1.8], [2.2, 2.8]])\n",
    "y = np.array([1, 1, 1, 1, 1, 1, 1, 1, -1, -1, -1, -1, -1, -1, -1, -1])\n",
    "\n",
    "print(X.shape,y.shape)\n",
    "plot_points(X, y)\n",
    "plt.show()"
   ]
  },
  {
   "cell_type": "markdown",
   "metadata": {
    "id": "riPi0aqDbTiv"
   },
   "source": [
    "In the next cell you are required to derive the Quadratic Constrained Quadratic form of SVM **without soft constraints** from the basic principles. Start with the idea that SVM tries to maximize the margin and then derive the form which you can feed to the solver.\n",
    "\n",
    "Please print the values of w, b. \n",
    "\n",
    "**Note: You are also required to upload a page of the derivation. You may also type it in markdown here**\n",
    "\n",
    "**Note: You cannot use sklearn SVM functions here**"
   ]
  },
  {
   "cell_type": "code",
   "execution_count": 4,
   "metadata": {
    "id": "vQuBPHbUbTix"
   },
   "outputs": [],
   "source": [
    "# Write your code here\n",
    "def kernal_linear(x,y):\n",
    "    return np.dot(x,y.T)\n",
    "def kernal_gaussian(x,y,sigma):\n",
    "    return np.exp(-gamma*linalg.norm(x - y) ** 2 )\n",
    "def kernal_polynomial(x,y,p=3):\n",
    "    return (1+np.dot(x,y.T))**p\n",
    "def kernal_hyperbolictan():\n",
    "    return np.tanh(np.dot(x,y.T)+1)"
   ]
  },
  {
   "cell_type": "markdown",
   "metadata": {
    "id": "0YBwDcYKUDjy"
   },
   "source": [
    "## method1"
   ]
  },
  {
   "cell_type": "code",
   "execution_count": 5,
   "metadata": {
    "colab": {
     "base_uri": "https://localhost:8080/"
    },
    "id": "NkbOIeAIbTix",
    "outputId": "7722bf6e-b68d-4390-86de-907824857108"
   },
   "outputs": [
    {
     "name": "stdout",
     "output_type": "stream",
     "text": [
      "alpha: \n",
      " [-1.14201380e-22  9.63819899e-01  4.50236050e-22  1.00000000e+00\n",
      "  1.00000000e+00  1.00000000e+00  1.00000000e+00  1.00000000e+00\n",
      "  2.85390021e-01  1.01116317e-21  1.00000000e+00  6.78429878e-01\n",
      "  1.00000000e+00  1.00000000e+00  1.00000000e+00  1.00000000e+00]\n",
      "support vetcor :\n",
      " [[-2.7 -1.3]\n",
      " [ 0.  -3. ]\n",
      " [ 1.   2. ]]\n",
      "Support vector_y :\n",
      " [ 1  1 -1]\n"
     ]
    }
   ],
   "source": [
    "def svm_model(X,y,C,gamma,degree):\n",
    "    n,m = X.shape\n",
    "    K = kernal_linear(X,X)\n",
    "    P = np.dot(y,y.T)*K\n",
    "    q = -1*np.ones(n).reshape(n,1)\n",
    "    G1 = -1*np.eye(n,n)    \n",
    "    h1 = np.zeros(n)\n",
    "    \n",
    "    G2 = np.eye(n,n)\n",
    "    h2 = np.ones(n)*C\n",
    "    \n",
    "    #print(G1,\"\\n\",h1,\"\\n\",G2,\"\\n\",h2,\"\\n\")\n",
    "    A = np.ones(n)*y\n",
    "    b = 0.0\n",
    "\n",
    "    x = cp.Variable(n)\n",
    "    objective = cp.Minimize((1/2)*cp.quad_form(x, P) + q.T@x)\n",
    "    constraints = [G1@x<=h1,G2@x<=h2 ,A@x==b]\n",
    "    prob = cp.Problem(objective,constraints)\n",
    "    prob.solve()\n",
    "    alpha = x.value\n",
    "    alpha_pos = alpha[alpha>C]\n",
    "    sv = X[alpha>C]\n",
    "    sv_Y = y[alpha>C]\n",
    "\n",
    "    return alpha,sv,sv_Y,alpha_pos\n",
    "alpha,sv,sv_y,alpha_pos = svm_model(X,y,1,0.01,4)\n",
    "print(\"alpha: \\n\",alpha)\n",
    "print(\"support vetcor :\\n\",sv)\n",
    "print(\"Support vector_y :\\n\",sv_y)"
   ]
  },
  {
   "cell_type": "code",
   "execution_count": 6,
   "metadata": {
    "colab": {
     "base_uri": "https://localhost:8080/"
    },
    "id": "TjS1CGrf72eW",
    "outputId": "b8f78b7e-5c80-4065-c2a9-292408600ee7"
   },
   "outputs": [
    {
     "name": "stdout",
     "output_type": "stream",
     "text": [
      "weight :\n",
      " [-21.15243159 -21.01371951]\n",
      "bias :\n",
      " -19.780000000000005\n"
     ]
    }
   ],
   "source": [
    "y = y.flatten()\n",
    "w = (y*alpha).T@X\n",
    "print(\"weight :\\n\",w)\n",
    "\n",
    "x_x = np.matmul(sv,sv.T)\n",
    "b = np.sum(sv_y - np.sum(x_x*alpha_pos * sv_y, axis=0))\n",
    "print(\"bias :\\n\",b)"
   ]
  },
  {
   "cell_type": "markdown",
   "metadata": {
    "id": "-kzvrOPyUIO1"
   },
   "source": [
    "## Method 2"
   ]
  },
  {
   "cell_type": "markdown",
   "metadata": {
    "id": "0rIzY-cNu2rQ"
   },
   "source": [
    "## hard margin (no slack variable)"
   ]
  },
  {
   "cell_type": "code",
   "execution_count": 7,
   "metadata": {
    "id": "113ywGOqUBhd"
   },
   "outputs": [],
   "source": [
    "def svmHard(X,y):\n",
    "    n,m=X.shape[0:2]\n",
    "    w = Variable((m,1))\n",
    "    b = Variable()\n",
    "    const = [y[i]*(X[i][0]*w[0]+X[i][1]*w[1]+b)>=1 for i in range(n)]\n",
    "    prob = Problem(Minimize((1/2)*square(norm(w,2))),const)\n",
    "    prob.solve()\n",
    "    print(w.value,b.value)\n",
    "    return w.value,b.value"
   ]
  },
  {
   "cell_type": "code",
   "execution_count": 8,
   "metadata": {
    "colab": {
     "base_uri": "https://localhost:8080/"
    },
    "id": "Pku_8VhLVdGC",
    "outputId": "be368176-a945-41bf-f959-8d08099ffa1f"
   },
   "outputs": [
    {
     "name": "stdout",
     "output_type": "stream",
     "text": [
      "[[-1.73913043]\n",
      " [-1.30434783]] -2.9130434780347696\n"
     ]
    }
   ],
   "source": [
    "# print(np.array(X).shape)\n",
    "w,b = svmHard(X,y)\n",
    "w = np.array(w)"
   ]
  },
  {
   "cell_type": "code",
   "execution_count": 9,
   "metadata": {
    "id": "kvwxwkabwNFU"
   },
   "outputs": [],
   "source": [
    "y_pred = np.dot(X,w)+b\n",
    "pos_indx = y_pred>0\n",
    "neg_indx = y_pred<0 \n",
    "supp_vect = y_pred=0"
   ]
  },
  {
   "cell_type": "code",
   "execution_count": 10,
   "metadata": {
    "colab": {
     "base_uri": "https://localhost:8080/",
     "height": 378
    },
    "id": "pbUUWoD-1RR_",
    "outputId": "125d943c-b917-4608-d020-fa7cec378971"
   },
   "outputs": [
    {
     "data": {
      "image/png": "[encoded data removed]",
      "text/plain": [
       "<Figure size 432x288 with 1 Axes>"
      ]
     },
     "metadata": {
      "needs_background": "light"
     },
     "output_type": "display_data"
    }
   ],
   "source": [
    "def svm_plot_line(X,y,w,b):\n",
    "    x = np.linspace(-5, 3, 50)\n",
    "    plt.plot(x, (-b - (w[0]*x))/w[1] , 'g')\n",
    "    plt.plot(x, (-b - (w[0]*x)+1)/w[1] ,'r--')\n",
    "    plt.plot(x, (-b - (w[0]*x)-1)/w[1] , 'r--')\n",
    "    plot_points(X, y)\n",
    "    plt.show()\n",
    "svm_plot_line(X,y,w,b)"
   ]
  },
  {
   "cell_type": "markdown",
   "metadata": {
    "id": "XcspRrU6F1um"
   },
   "source": [
    "## Soft Margin"
   ]
  },
  {
   "cell_type": "code",
   "execution_count": 11,
   "metadata": {
    "id": "IIqwfnEAF03S"
   },
   "outputs": [],
   "source": [
    "def svmSoft(X,y,C):\n",
    "    n,m=X.shape[0:2]\n",
    "    w = Variable((m,1))\n",
    "    b = Variable()\n",
    "    psi = Variable((n,1))\n",
    "    const1 = [y[i]*(X[i][0]*w[0]+X[i][1]*w[1]+b)+psi[i]>=1 for i in range(n)]\n",
    "    const2 = [psi[i]>=0 for i in range(n)]\n",
    "    const = const1 + const2\n",
    "    prob = Problem(Minimize(0.5*cp.square(cp.norm(w,2))+C*cp.sum(psi)),const)\n",
    "    prob.solve()\n",
    "    print(w.value,b.value)\n",
    "    return w.value,b.value\n"
   ]
  },
  {
   "cell_type": "code",
   "execution_count": 12,
   "metadata": {
    "colab": {
     "base_uri": "https://localhost:8080/"
    },
    "id": "HOjo7X2eHVHn",
    "outputId": "a2dc092f-b75a-4ba0-c2ca-75dd0310b473"
   },
   "outputs": [
    {
     "name": "stdout",
     "output_type": "stream",
     "text": [
      "[[-1.73913043]\n",
      " [-1.30434783]] -2.913043478073639\n"
     ]
    }
   ],
   "source": [
    "w,b = svmSoft(X,y,4)\n"
   ]
  },
  {
   "cell_type": "code",
   "execution_count": 13,
   "metadata": {
    "colab": {
     "base_uri": "https://localhost:8080/",
     "height": 378
    },
    "id": "u9GoNew7HtLb",
    "outputId": "eabe86eb-335e-49e3-ecd0-3104062a1333"
   },
   "outputs": [
    {
     "data": {
      "image/png": "[encoded data removed]",
      "text/plain": [
       "<Figure size 432x288 with 1 Axes>"
      ]
     },
     "metadata": {
      "needs_background": "light"
     },
     "output_type": "display_data"
    }
   ],
   "source": [
    "svm_plot_line(X,y,w,b)"
   ]
  },
  {
   "cell_type": "markdown",
   "metadata": {
    "id": "BIi_lx0VbTi4"
   },
   "source": [
    "In the next cell you are required to visualize the boundary predicted by the solver. You may want to revise up on how to plot the a line given w, b. Please plot w vector as well as the margin lines\n",
    "\n",
    "You may want to create a function to plot the line of separation as you would require this frequently in the subsequent parts of the assignment."
   ]
  },
  {
   "cell_type": "markdown",
   "metadata": {
    "id": "ck57g6IKbTi5"
   },
   "source": [
    "In the next cell please plot only the support vectors along with the boundary, w vector, and margins. \n",
    "\n",
    "**Note: You are not supposed to hard-code the points here**"
   ]
  },
  {
   "cell_type": "code",
   "execution_count": 14,
   "metadata": {
    "colab": {
     "base_uri": "https://localhost:8080/"
    },
    "id": "JFlFUVF4bTi6",
    "outputId": "8de4e80c-a88c-4ba9-ca19-94c8d1274606"
   },
   "outputs": [
    {
     "name": "stdout",
     "output_type": "stream",
     "text": [
      "[[-1.73913043]\n",
      " [-1.30434783]] -2.9130434780347696\n",
      "[[-0.73599981]\n",
      " [-0.55199986]] -0.6559995709755724\n"
     ]
    },
    {
     "data": {
      "text/plain": [
       "(array([[-0.73599981],\n",
       "        [-0.55199986]]),\n",
       " array(-0.65599957))"
      ]
     },
     "execution_count": 14,
     "metadata": {},
     "output_type": "execute_result"
    }
   ],
   "source": [
    "# Write your code here\n",
    "svmHard(X,y)  #### this function are created for hard margin in previou cell\n",
    "svmSoft(X,y,1)  #### this function are created for soft margin in previous cell "
   ]
  },
  {
   "cell_type": "markdown",
   "metadata": {
    "id": "B_WriqfwbTi6"
   },
   "source": [
    "In the next cell add the following points:\n",
    "* (-4, -10) with label 1\n",
    "* (4, 4) with label -1\n",
    "\n",
    "Is the decision boundary changed after adding the points? Explain your observations theoretically."
   ]
  },
  {
   "cell_type": "code",
   "execution_count": 15,
   "metadata": {
    "id": "amWpt7oX_o_W"
   },
   "outputs": [],
   "source": [
    "X_ = X\n",
    "y_ = y\n",
    "X_ = np.append(X_,[[-4,-10]],axis=0)\n",
    "X_ = np.append(X_,[[4,4]],axis=0)\n",
    "y_ = np.append(y_,1)\n",
    "y_ = np.append(y_,-1)"
   ]
  },
  {
   "cell_type": "code",
   "execution_count": 16,
   "metadata": {
    "colab": {
     "base_uri": "https://localhost:8080/",
     "height": 282
    },
    "id": "qh1QkBy2bTi7",
    "outputId": "b9fe49f1-9916-439e-d9c3-cba491bc0d6a"
   },
   "outputs": [
    {
     "name": "stdout",
     "output_type": "stream",
     "text": [
      "(18, 2) (18,)\n"
     ]
    },
    {
     "data": {
      "image/png": "[encoded data removed]",
      "text/plain": [
       "<Figure size 432x288 with 1 Axes>"
      ]
     },
     "metadata": {
      "needs_background": "light"
     },
     "output_type": "display_data"
    }
   ],
   "source": [
    "# Re-create the Synthetic Data by adding the points and visualize the points\n",
    "print(X_.shape,y_.shape)\n",
    "plot_points(X_, y_)\n",
    "plt.show()"
   ]
  },
  {
   "cell_type": "code",
   "execution_count": 17,
   "metadata": {
    "colab": {
     "base_uri": "https://localhost:8080/",
     "height": 409
    },
    "id": "_ZpsqCJMbTi8",
    "outputId": "e18f3261-de3e-4058-c4b8-21a61865a0ce"
   },
   "outputs": [
    {
     "name": "stdout",
     "output_type": "stream",
     "text": [
      "[[-1.73913043]\n",
      " [-1.30434783]] -2.913043478291523\n",
      "weight matrix: [-1.73913043 -1.30434783]\n",
      "bias : -2.913043478291523\n"
     ]
    },
    {
     "data": {
      "image/png": "[encoded data removed]",
      "text/plain": [
       "<Figure size 432x288 with 1 Axes>"
      ]
     },
     "metadata": {
      "needs_background": "light"
     },
     "output_type": "display_data"
    }
   ],
   "source": [
    "# Solve for the decision boundary using this modified dataset\n",
    "w,b = svmHard(X_,y_)\n",
    "w = np.array(w)\n",
    "w = w.flatten()\n",
    "print(\"weight matrix:\",w)\n",
    "print(\"bias :\",b)\n",
    "svm_plot_line(X_,y_,w,b)"
   ]
  },
  {
   "cell_type": "markdown",
   "metadata": {
    "id": "yQyoiA26bTi8"
   },
   "source": [
    "In the next cell you are required to modify your framing of optimisation problem to incorporate soft constraints also known as slack. Plot the decision boundary, w and margin lines for various values of C: $0.01$, $0.1$, $3$, $10$, $100$.\n",
    "\n",
    "Explain your results theoretically. How does the boundary change with varying values of C? Why?\n",
    "\n",
    "**Note: Use the modified X and y i.e after adding points in previous cell**"
   ]
  },
  {
   "cell_type": "code",
   "execution_count": 18,
   "metadata": {
    "colab": {
     "base_uri": "https://localhost:8080/",
     "height": 409
    },
    "id": "-S2cftZYbTi8",
    "outputId": "f506b3e2-c10a-45c8-c3ea-11c1070fcd89"
   },
   "outputs": [
    {
     "name": "stdout",
     "output_type": "stream",
     "text": [
      "[[-0.22506809]\n",
      " [-0.19858949]] 0.013672204267370152\n",
      "weight matrix: [-0.22506809 -0.19858949]\n",
      "bias : 0.013672204267370152\n"
     ]
    },
    {
     "data": {
      "image/png": "[encoded data removed]",
      "text/plain": [
       "<Figure size 432x288 with 1 Axes>"
      ]
     },
     "metadata": {
      "needs_background": "light"
     },
     "output_type": "display_data"
    }
   ],
   "source": [
    "# Write your code here for \n",
    "C= 0.01\n",
    "w,b = svmSoft(X_,y_,C)\n",
    "w = np.array(w)\n",
    "w = w.flatten()\n",
    "print(\"weight matrix:\",w)\n",
    "print(\"bias :\",b)\n",
    "svm_plot_line(X_,y_,w,b)"
   ]
  },
  {
   "cell_type": "code",
   "execution_count": 19,
   "metadata": {
    "colab": {
     "base_uri": "https://localhost:8080/",
     "height": 409
    },
    "id": "qs8yTcX0bTi-",
    "outputId": "7e2cfab3-6288-48ae-f25d-f26652eb2197"
   },
   "outputs": [
    {
     "name": "stdout",
     "output_type": "stream",
     "text": [
      "[[-0.38493724]\n",
      " [-0.35146444]] -0.12133891201898916\n",
      "weight matrix: [-0.38493724 -0.35146444]\n",
      "bias : -0.12133891201898916\n"
     ]
    },
    {
     "data": {
      "image/png": "[encoded data removed]",
      "text/plain": [
       "<Figure size 432x288 with 1 Axes>"
      ]
     },
     "metadata": {
      "needs_background": "light"
     },
     "output_type": "display_data"
    }
   ],
   "source": [
    "# Write your code here for \n",
    "C= 0.1\n",
    "w,b = svmSoft(X_,y_,C)\n",
    "w = np.array(w)\n",
    "w = w.flatten()\n",
    "print(\"weight matrix:\",w)\n",
    "print(\"bias :\",b)\n",
    "svm_plot_line(X_,y_,w,b)"
   ]
  },
  {
   "cell_type": "code",
   "execution_count": 20,
   "metadata": {
    "colab": {
     "base_uri": "https://localhost:8080/",
     "height": 409
    },
    "id": "u8fMTx12bTi-",
    "outputId": "1f4bca95-cee9-4c5a-e524-b938ee53a028"
   },
   "outputs": [
    {
     "name": "stdout",
     "output_type": "stream",
     "text": [
      "[[-1.73913043]\n",
      " [-1.30434783]] -2.9130434782869634\n",
      "weight matrix: [-1.73913043 -1.30434783]\n",
      "bias : -2.9130434782869634\n"
     ]
    },
    {
     "data": {
      "image/png": "[encoded data removed]",
      "text/plain": [
       "<Figure size 432x288 with 1 Axes>"
      ]
     },
     "metadata": {
      "needs_background": "light"
     },
     "output_type": "display_data"
    }
   ],
   "source": [
    "# Write your code here for \n",
    "C= 3\n",
    "w,b = svmSoft(X_,y_,C)\n",
    "w = np.array(w)\n",
    "w = w.flatten()\n",
    "print(\"weight matrix:\",w)\n",
    "print(\"bias :\",b)\n",
    "svm_plot_line(X_,y_,w,b)"
   ]
  },
  {
   "cell_type": "code",
   "execution_count": 21,
   "metadata": {
    "colab": {
     "base_uri": "https://localhost:8080/",
     "height": 409
    },
    "id": "Ae9P73RTbTi-",
    "outputId": "61be4b45-ca10-479d-a333-f6822c6fd6d7"
   },
   "outputs": [
    {
     "name": "stdout",
     "output_type": "stream",
     "text": [
      "[[-1.73913043]\n",
      " [-1.30434783]] -2.9130434783574235\n",
      "weight matrix: [-1.73913043 -1.30434783]\n",
      "bias : -2.9130434783574235\n"
     ]
    },
    {
     "data": {
      "image/png": "[encoded data removed]",
      "text/plain": [
       "<Figure size 432x288 with 1 Axes>"
      ]
     },
     "metadata": {
      "needs_background": "light"
     },
     "output_type": "display_data"
    }
   ],
   "source": [
    "# Write your code here for \n",
    "C= 10\n",
    "w,b = svmSoft(X_,y_,C)\n",
    "w = np.array(w)\n",
    "w = w.flatten()\n",
    "print(\"weight matrix:\",w)\n",
    "print(\"bias :\",b)\n",
    "svm_plot_line(X_,y_,w,b)"
   ]
  },
  {
   "cell_type": "code",
   "execution_count": 23,
   "metadata": {
    "colab": {
     "base_uri": "https://localhost:8080/",
     "height": 409
    },
    "id": "c0T_dqF8bTi_",
    "outputId": "6613a984-59b3-4ce3-8897-460fa76ddc9e"
   },
   "outputs": [
    {
     "name": "stdout",
     "output_type": "stream",
     "text": [
      "[[-1.73913044]\n",
      " [-1.30434783]] -2.9130434786825745\n",
      "weight matrix: [-1.73913044 -1.30434783]\n",
      "bias : -2.9130434786825745\n"
     ]
    },
    {
     "data": {
      "image/png": "[encoded data removed]",
      "text/plain": [
       "<Figure size 432x288 with 1 Axes>"
      ]
     },
     "metadata": {
      "needs_background": "light"
     },
     "output_type": "display_data"
    }
   ],
   "source": [
    "# Write your code here for \n",
    "C= 100\n",
    "w,b = svmSoft(X_,y_,C)\n",
    "w = np.array(w)\n",
    "w = w.flatten()\n",
    "print(\"weight matrix:\",w)\n",
    "print(\"bias :\",b)\n",
    "svm_plot_line(X_,y_,w,b)"
   ]
  },
  {
   "cell_type": "markdown",
   "metadata": {
    "id": "PPN8EX_nbTi_"
   },
   "source": [
    "Take the case of C = 100 and remove the support vectors. Does the boundary change after the deletion?\n",
    "Explain why? Show your results by appropriate plots?"
   ]
  },
  {
   "cell_type": "code",
   "execution_count": 24,
   "metadata": {
    "id": "A_2c4L6BbTjA"
   },
   "outputs": [
    {
     "name": "stdout",
     "output_type": "stream",
     "text": [
      "[[-0.73599949]\n",
      " [-0.55199962]] -0.655998845309311\n",
      "weight matrix: [-0.73599949 -0.55199962]\n",
      "bias : -0.655998845309311\n"
     ]
    },
    {
     "data": {
      "image/png": "[encoded data removed]",
      "text/plain": [
       "<Figure size 432x288 with 1 Axes>"
      ]
     },
     "metadata": {
      "needs_background": "light"
     },
     "output_type": "display_data"
    }
   ],
   "source": [
    "# Write your Code here\n",
    "C= 1\n",
    "w,b = svmSoft(X_,y_,C)\n",
    "w = np.array(w)\n",
    "w = w.flatten()\n",
    "print(\"weight matrix:\",w)\n",
    "print(\"bias :\",b)\n",
    "svm_plot_line(X_,y_,w,b)"
   ]
  },
  {
   "cell_type": "markdown",
   "metadata": {},
   "source": [
    "As we see if we change C from 100 to 1 the decision boundary changes ,, because if we increase C value the model predict accuracy on traing data set increases but accuracy on test dataset not much good because due to overfit the data for ex if we check accuracy at C=10000 then no change occur as comare to c=100"
   ]
  },
  {
   "cell_type": "code",
   "execution_count": 25,
   "metadata": {},
   "outputs": [
    {
     "name": "stdout",
     "output_type": "stream",
     "text": [
      "[[-1.73913044]\n",
      " [-1.30434783]] -2.913043478618098\n",
      "weight matrix: [-1.73913044 -1.30434783]\n",
      "bias : -2.913043478618098\n"
     ]
    },
    {
     "data": {
      "image/png": "[encoded data removed]",
      "text/plain": [
       "<Figure size 432x288 with 1 Axes>"
      ]
     },
     "metadata": {
      "needs_background": "light"
     },
     "output_type": "display_data"
    }
   ],
   "source": [
    "C= 100000\n",
    "w,b = svmSoft(X_,y_,C)\n",
    "w = np.array(w)\n",
    "w = w.flatten()\n",
    "print(\"weight matrix:\",w)\n",
    "print(\"bias :\",b)\n",
    "svm_plot_line(X_,y_,w,b)"
   ]
  },
  {
   "cell_type": "markdown",
   "metadata": {},
   "source": [
    "Becasue model are best fited one the train dataset , priviously C=0.01 ,0.1,1,3,8 decision boundary changes after taht no change are in decision boudary occur"
   ]
  },
  {
   "cell_type": "markdown",
   "metadata": {
    "id": "e8fP8WYDbTjB"
   },
   "source": [
    "### Subsection 2"
   ]
  },
  {
   "cell_type": "code",
   "execution_count": null,
   "metadata": {
    "colab": {
     "base_uri": "https://localhost:8080/"
    },
    "id": "Ad0EKsHMbTjB",
    "outputId": "f5cd1769-f41d-4b6c-f481-7a2c7dc7b505"
   },
   "outputs": [
    {
     "name": "stdout",
     "output_type": "stream",
     "text": [
      "Collecting python-mnist\n",
      "  Downloading https://files.pythonhosted.org/packages/64/f0/6086b84427c3bf156ec0b3c2f9dfc1d770b35f942b9ed8a64f5229776a80/python_mnist-0.7-py2.py3-none-any.whl\n",
      "Installing collected packages: python-mnist\n",
      "Successfully installed python-mnist-0.7\n",
      "--2021-03-07 19:35:26--  http://yann.lecun.com/exdb/mnist/train-images-idx3-ubyte.gz\n",
      "Resolving yann.lecun.com (yann.lecun.com)... 104.21.29.36, 172.67.171.76, 2606:4700:3036::ac43:ab4c, ...\n",
      "Connecting to yann.lecun.com (yann.lecun.com)|104.21.29.36|:80... connected.\n",
      "HTTP request sent, awaiting response... 200 OK\n",
      "Length: 9912422 (9.5M) [application/x-gzip]\n",
      "Saving to: ‘samples/train-images-idx3-ubyte.gz’\n",
      "\n",
      "train-images-idx3-u 100%[===================>]   9.45M  11.7MB/s    in 0.8s    \n",
      "\n",
      "2021-03-07 19:35:27 (11.7 MB/s) - ‘samples/train-images-idx3-ubyte.gz’ saved [9912422/9912422]\n",
      "\n",
      "--2021-03-07 19:35:28--  http://yann.lecun.com/exdb/mnist/train-labels-idx1-ubyte.gz\n",
      "Resolving yann.lecun.com (yann.lecun.com)... 104.21.29.36, 172.67.171.76, 2606:4700:3036::ac43:ab4c, ...\n",
      "Connecting to yann.lecun.com (yann.lecun.com)|104.21.29.36|:80... connected.\n",
      "HTTP request sent, awaiting response... 200 OK\n",
      "Length: 28881 (28K) [application/x-gzip]\n",
      "Saving to: ‘samples/train-labels-idx1-ubyte.gz’\n",
      "\n",
      "train-labels-idx1-u 100%[===================>]  28.20K  --.-KB/s    in 0.06s   \n",
      "\n",
      "2021-03-07 19:35:28 (443 KB/s) - ‘samples/train-labels-idx1-ubyte.gz’ saved [28881/28881]\n",
      "\n",
      "--2021-03-07 19:35:28--  http://yann.lecun.com/exdb/mnist/t10k-images-idx3-ubyte.gz\n",
      "Resolving yann.lecun.com (yann.lecun.com)... 104.21.29.36, 172.67.171.76, 2606:4700:3036::ac43:ab4c, ...\n",
      "Connecting to yann.lecun.com (yann.lecun.com)|104.21.29.36|:80... connected.\n",
      "HTTP request sent, awaiting response... 200 OK\n",
      "Length: 1648877 (1.6M) [application/x-gzip]\n",
      "Saving to: ‘samples/t10k-images-idx3-ubyte.gz’\n",
      "\n",
      "t10k-images-idx3-ub 100%[===================>]   1.57M  3.39MB/s    in 0.5s    \n",
      "\n",
      "2021-03-07 19:35:29 (3.39 MB/s) - ‘samples/t10k-images-idx3-ubyte.gz’ saved [1648877/1648877]\n",
      "\n",
      "--2021-03-07 19:35:29--  http://yann.lecun.com/exdb/mnist/t10k-labels-idx1-ubyte.gz\n",
      "Resolving yann.lecun.com (yann.lecun.com)... 104.21.29.36, 172.67.171.76, 2606:4700:3036::ac43:ab4c, ...\n",
      "Connecting to yann.lecun.com (yann.lecun.com)|104.21.29.36|:80... connected.\n",
      "HTTP request sent, awaiting response... 200 OK\n",
      "Length: 4542 (4.4K) [application/x-gzip]\n",
      "Saving to: ‘samples/t10k-labels-idx1-ubyte.gz’\n",
      "\n",
      "t10k-labels-idx1-ub 100%[===================>]   4.44K  --.-KB/s    in 0s      \n",
      "\n",
      "2021-03-07 19:35:29 (198 MB/s) - ‘samples/t10k-labels-idx1-ubyte.gz’ saved [4542/4542]\n",
      "\n"
     ]
    }
   ],
   "source": [
    "!pip3 install python-mnist\n",
    "!rm -rf samples\n",
    "!mkdir samples\n",
    "!wget http://yann.lecun.com/exdb/mnist/train-images-idx3-ubyte.gz -P samples/\n",
    "!gunzip samples/train-images-idx3-ubyte.gz\n",
    "!wget http://yann.lecun.com/exdb/mnist/train-labels-idx1-ubyte.gz -P samples/\n",
    "!gunzip samples/train-labels-idx1-ubyte.gz\n",
    "!wget http://yann.lecun.com/exdb/mnist/t10k-images-idx3-ubyte.gz -P samples/\n",
    "!gunzip samples/t10k-images-idx3-ubyte.gz\n",
    "!wget http://yann.lecun.com/exdb/mnist/t10k-labels-idx1-ubyte.gz -P samples/\n",
    "!gunzip samples/t10k-labels-idx1-ubyte.gz"
   ]
  },
  {
   "cell_type": "code",
   "execution_count": null,
   "metadata": {
    "id": "NZMNAcGabTjC"
   },
   "outputs": [],
   "source": [
    "# Import Relevant Packages\n",
    "from sklearn.svm import SVC\n",
    "import numpy as np\n",
    "from mnist.loader import MNIST\n",
    "from sklearn.metrics import confusion_matrix\n",
    "from sklearn.metrics import accuracy_score\n",
    "from sklearn.preprocessing import MinMaxScaler"
   ]
  },
  {
   "cell_type": "code",
   "execution_count": null,
   "metadata": {
    "colab": {
     "base_uri": "https://localhost:8080/"
    },
    "id": "3MqjRq2DbTjC",
    "outputId": "1f7454c4-0cdc-4408-e90f-6df1a09b474e"
   },
   "outputs": [
    {
     "name": "stdout",
     "output_type": "stream",
     "text": [
      "(60000, 784)\n",
      "(60000,)\n"
     ]
    }
   ],
   "source": [
    "mndata = MNIST('samples')\n",
    "\n",
    "# Load training dataset\n",
    "images, labels = mndata.load_training()\n",
    "l = len(labels)\n",
    "images_train = np.array(images)\n",
    "labels_train = np.array(labels)\n",
    "\n",
    "print(images_train.shape)\n",
    "print(labels_train.shape)"
   ]
  },
  {
   "cell_type": "code",
   "execution_count": null,
   "metadata": {
    "colab": {
     "base_uri": "https://localhost:8080/"
    },
    "id": "ABaeWI9HbTjC",
    "outputId": "05dd1fee-f247-4509-ae58-68945d55b639"
   },
   "outputs": [
    {
     "name": "stdout",
     "output_type": "stream",
     "text": [
      "(10000, 784)\n",
      "(10000,)\n"
     ]
    }
   ],
   "source": [
    "# Load testing dataset\n",
    "images, labels = mndata.load_testing()\n",
    "l = len(labels)\n",
    "images_test = np.array(images)\n",
    "labels_test = np.array(labels)\n",
    "\n",
    "print(images_test.shape)\n",
    "print(labels_test.shape)"
   ]
  },
  {
   "cell_type": "code",
   "execution_count": null,
   "metadata": {
    "colab": {
     "base_uri": "https://localhost:8080/"
    },
    "id": "t8Uowe7FvJUS",
    "outputId": "ace93e5f-d66f-49ae-b9fa-d38778ab9fb9"
   },
   "outputs": [
    {
     "name": "stdout",
     "output_type": "stream",
     "text": [
      "(18623, 784) (18623,)\n"
     ]
    }
   ],
   "source": [
    "X_train = []\n",
    "y_train = []\n",
    "for i in range(len(images_train)):\n",
    "  if labels_train[i] == 0 or labels_train[i] == 1 or labels_train[i] == 2:\n",
    "    X_train.append(images_train[i])\n",
    "    y_train.append(labels_train[i])\n",
    "X_train = np.array(X_train)\n",
    "scaler = MinMaxScaler()\n",
    "X_train = scaler.fit_transform(X_train)\n",
    "y_train = np.array(y_train)\n",
    "print(X_train.shape,y_train.shape) "
   ]
  },
  {
   "cell_type": "code",
   "execution_count": null,
   "metadata": {
    "colab": {
     "base_uri": "https://localhost:8080/"
    },
    "id": "QzGfNSG6wfDc",
    "outputId": "c8be3980-d858-405f-dbf3-ae0af74acbbb"
   },
   "outputs": [
    {
     "name": "stdout",
     "output_type": "stream",
     "text": [
      "(3147, 784) (3147,)\n"
     ]
    }
   ],
   "source": [
    "X_test = []\n",
    "y_test = []\n",
    "for i in range(len(images_test)):\n",
    "  if labels_test[i] == 0 or labels_test[i] == 1 or labels_test[i] == 2:\n",
    "    X_test.append(images_test[i])\n",
    "    y_test.append(labels_test[i])\n",
    "X_test = np.array(X_test)\n",
    "y_test = np.array(y_test)\n",
    "scaler = MinMaxScaler()\n",
    "X_test = scaler.fit_transform(X_test)\n",
    "print(X_test.shape,y_test.shape)"
   ]
  },
  {
   "cell_type": "markdown",
   "metadata": {
    "id": "9wBo5lMebTjD"
   },
   "source": [
    "- Tweak different parameters like the C Parameter, gamma parameter and kernel of the SVM class and report the results.\n",
    "- Experiment different kernels for classification and report the results.\n",
    "Report accuracy score, F1-score, Confusion matrix and any other metrics you feel useful."
   ]
  },
  {
   "cell_type": "code",
   "execution_count": null,
   "metadata": {
    "colab": {
     "base_uri": "https://localhost:8080/",
     "height": 291
    },
    "id": "Q7OjyMP65KtS",
    "outputId": "d29f0d83-6a74-48ca-a72b-c2f24f71dde6"
   },
   "outputs": [
    {
     "data": {
      "image/png": "[encoded data removed]",
      "text/plain": [
       "<Figure size 1440x720 with 4 Axes>"
      ]
     },
     "metadata": {
      "tags": []
     },
     "output_type": "display_data"
    }
   ],
   "source": [
    "fig = plt.figure(figsize=(20,10))\n",
    "plt.subplot(141)\n",
    "plt.imshow(X_train[0].reshape(28,28))\n",
    "plt.subplot(142)\n",
    "plt.imshow(X_train[199].reshape(28,28))\n",
    "plt.subplot(143)\n",
    "plt.imshow(X_train[240].reshape(28,28))\n",
    "plt.subplot(144)\n",
    "plt.imshow(X_train[590].reshape(28,28))\n",
    "plt.show()"
   ]
  },
  {
   "cell_type": "code",
   "execution_count": null,
   "metadata": {
    "id": "c2j9hi8e0LQh"
   },
   "outputs": [],
   "source": [
    "def mse(x,y):\n",
    "  return np.sqrt(np.sum((x-y)**2))/len(x)\n",
    "def absmerr(x,y):\n",
    "  return np.sum(abs(x-y))/len(x)"
   ]
  },
  {
   "cell_type": "markdown",
   "metadata": {
    "id": "fxML9veHbTjD"
   },
   "source": [
    "### Linear Kernel"
   ]
  },
  {
   "cell_type": "code",
   "execution_count": null,
   "metadata": {
    "colab": {
     "base_uri": "https://localhost:8080/"
    },
    "id": "6t7hg_G1bTjD",
    "outputId": "531881cc-74b6-4524-f50a-30f1373e338c"
   },
   "outputs": [
    {
     "name": "stdout",
     "output_type": "stream",
     "text": [
      "SVM metrices different C values using Linear kernel:\n",
      "[ 1.          1.69230769  2.38461538  3.07692308  3.76923077  4.46153846\n",
      "  5.15384615  5.84615385  6.53846154  7.23076923  7.92307692  8.61538462\n",
      "  9.30769231 10.        ]\n",
      "0.9853829043533524\n",
      "0.984429615506832\n",
      "0.9822052748649508\n",
      "0.9815697489672705\n",
      "0.9812519860184302\n",
      "0.9790276453765491\n",
      "0.9802986971719098\n",
      "0.9802986971719098\n",
      "0.9809342230695901\n",
      "0.9809342230695901\n",
      "0.9806164601207499\n",
      "0.9806164601207499\n",
      "0.9809342230695901\n",
      "0.9812519860184302\n"
     ]
    }
   ],
   "source": [
    "print(\"SVM metrices different C values using Linear kernel:\")\n",
    "C_ = np.linspace(1,10,14)\n",
    "print(C_)\n",
    "for i in C_:\n",
    "  clf = SVC(C=i,kernel='linear') \n",
    "  clf.fit(X_train,y_train)\n",
    "  y_pred = clf.predict(X_test)\n",
    "  print(accuracy_score(y_true=y_test, y_pred=y_pred))"
   ]
  },
  {
   "cell_type": "markdown",
   "metadata": {
    "id": "2uZ3a1blRROr"
   },
   "source": [
    "here we see the max accuracy found on lower value of C"
   ]
  },
  {
   "cell_type": "code",
   "execution_count": null,
   "metadata": {
    "colab": {
     "base_uri": "https://localhost:8080/"
    },
    "id": "HwcNQpuGRd0C",
    "outputId": "7ed683ee-1f61-4386-d781-1529cbde1689"
   },
   "outputs": [
    {
     "name": "stdout",
     "output_type": "stream",
     "text": [
      "              precision    recall  f1-score   support\n",
      "\n",
      "           0       0.98      0.99      0.99       980\n",
      "           1       0.99      0.99      0.99      1135\n",
      "           2       0.99      0.97      0.98      1032\n",
      "\n",
      "    accuracy                           0.99      3147\n",
      "   macro avg       0.99      0.99      0.99      3147\n",
      "weighted avg       0.99      0.99      0.99      3147\n",
      "\n"
     ]
    }
   ],
   "source": [
    "clf = SVC(C=1,kernel='linear') \n",
    "clf.fit(X_train,y_train)\n",
    "y_pred = clf.predict(X_test)\n",
    "print(classification_report(y_true=y_test, y_pred=y_pred, labels=[0,1,2]))"
   ]
  },
  {
   "cell_type": "markdown",
   "metadata": {
    "id": "Bfrk8V3mbTjF"
   },
   "source": [
    "### Polynomial kernel"
   ]
  },
  {
   "cell_type": "code",
   "execution_count": null,
   "metadata": {
    "id": "yVffBcb04F9p"
   },
   "outputs": [],
   "source": [
    "degree_ = [2,3,4,5,6,7,8,9,10,11]"
   ]
  },
  {
   "cell_type": "code",
   "execution_count": null,
   "metadata": {
    "colab": {
     "base_uri": "https://localhost:8080/"
    },
    "id": "j1Q5-Z5hbTjF",
    "outputId": "7e2d9979-2529-4e19-f20e-ece7388189a1"
   },
   "outputs": [
    {
     "name": "stdout",
     "output_type": "stream",
     "text": [
      "SVM metrices different Degree values using Polynomial kernel:\n",
      "Accuracy with degree 2 is : 0.9945980298697172\n",
      "Accuracy with degree 3 is : 0.9939625039720369\n",
      "Accuracy with degree 4 is : 0.9888782967905942\n",
      "Accuracy with degree 5 is : 0.9771210676835081\n",
      "Accuracy with degree 6 is : 0.9637750238322211\n",
      "Accuracy with degree 7 is : 0.952017794725135\n",
      "Accuracy with degree 8 is : 0.9418493803622497\n",
      "Accuracy with degree 9 is : 0.926914521766762\n",
      "Accuracy with degree 10 is : 0.9129329520177947\n",
      "Accuracy with degree 11 is : 0.8957737527804258\n"
     ]
    }
   ],
   "source": [
    "print(\"SVM metrices different Degree values using Polynomial kernel:\")\n",
    "for i in degree_:\n",
    "  clf = SVC(C=1.0,kernel='poly',degree=i) \n",
    "  clf.fit(X_train,y_train)\n",
    "  y_pred = clf.predict(X_test)\n",
    "  print(\"Accuracy with degree\",i,\"is :\",accuracy_score(y_true=y_test, y_pred=y_pred))"
   ]
  },
  {
   "cell_type": "markdown",
   "metadata": {
    "id": "ogWDGlKHV3zM"
   },
   "source": [
    "here we see that if we increase the degree the accuracy of madel decreases"
   ]
  },
  {
   "cell_type": "code",
   "execution_count": null,
   "metadata": {
    "colab": {
     "base_uri": "https://localhost:8080/"
    },
    "id": "ClZmXHEwV1_7",
    "outputId": "0163aa94-4a8c-40fd-e4ba-52cd0ca41b68"
   },
   "outputs": [
    {
     "name": "stdout",
     "output_type": "stream",
     "text": [
      "              precision    recall  f1-score   support\n",
      "\n",
      "           0       0.99      1.00      1.00       980\n",
      "           1       1.00      1.00      1.00      1135\n",
      "           2       0.99      0.99      0.99      1032\n",
      "\n",
      "    accuracy                           0.99      3147\n",
      "   macro avg       0.99      0.99      0.99      3147\n",
      "weighted avg       0.99      0.99      0.99      3147\n",
      "\n"
     ]
    }
   ],
   "source": [
    "clf = SVC(C=1,kernel='poly',degree=2) \n",
    "clf.fit(X_train,y_train)\n",
    "y_pred = clf.predict(X_test)\n",
    "print(classification_report(y_true=y_test, y_pred=y_pred, labels=[0,1,2]))"
   ]
  },
  {
   "cell_type": "markdown",
   "metadata": {
    "id": "EsAklqOMbTjG"
   },
   "source": [
    "### Radial Basis Function Kernel "
   ]
  },
  {
   "cell_type": "code",
   "execution_count": null,
   "metadata": {
    "colab": {
     "base_uri": "https://localhost:8080/"
    },
    "id": "m4nxWOABbTjG",
    "outputId": "09fcb825-04d8-4294-b5dc-7f6527cba1c6"
   },
   "outputs": [
    {
     "name": "stdout",
     "output_type": "stream",
     "text": [
      "SVM metrices different C and gamma values using RBF kernel:\n",
      "[0.0001, 0.001, 0.01, 0.1]\n",
      "0.9841118525579917\n",
      "0.990467111534795\n",
      "0.9949157928185574\n",
      "0.9866539561487131\n"
     ]
    }
   ],
   "source": [
    "print(\"SVM metrices different C and gamma values using RBF kernel:\")\n",
    "gamma_=[0.0001,0.001,0.01,0.1,]\n",
    "print(gamma_)\n",
    "for i in gamma_:\n",
    "  clf = SVC(C=1,kernel='rbf',gamma=i) \n",
    "  clf.fit(X_train,y_train)\n",
    "  y_pred = clf.predict(X_test)\n",
    "  print(accuracy_score(y_true=y_test, y_pred=y_pred))"
   ]
  },
  {
   "cell_type": "markdown",
   "metadata": {
    "id": "XHkH5W4EwiNs"
   },
   "source": [
    "here we see that if increase the gamma value accuracy increase but after some threshold accuracy decreases"
   ]
  },
  {
   "cell_type": "code",
   "execution_count": null,
   "metadata": {
    "colab": {
     "base_uri": "https://localhost:8080/"
    },
    "id": "lY-RZaXGwzNh",
    "outputId": "d6ecafb2-99ac-4558-9e76-cacffa396737"
   },
   "outputs": [
    {
     "name": "stdout",
     "output_type": "stream",
     "text": [
      "              precision    recall  f1-score   support\n",
      "\n",
      "           0       0.99      1.00      1.00       980\n",
      "           1       1.00      1.00      1.00      1135\n",
      "           2       1.00      0.99      0.99      1032\n",
      "\n",
      "    accuracy                           0.99      3147\n",
      "   macro avg       0.99      0.99      0.99      3147\n",
      "weighted avg       0.99      0.99      0.99      3147\n",
      "\n"
     ]
    }
   ],
   "source": [
    "clf = SVC(C=1.0,kernel='rbf',gamma=0.01) \n",
    "clf.fit(X_train,y_train)\n",
    "y_pred = clf.predict(X_test)\n",
    "print(classification_report(y_true=y_test, y_pred=y_pred, labels=[0,1,2]))"
   ]
  },
  {
   "cell_type": "markdown",
   "metadata": {
    "id": "wMIIebRjxEJf"
   },
   "source": [
    "From checking on various hyperparameter like degree , C, gamma and corresponding Kernel ,,we get maximum accuracy which is 0.9949 on the gmma value 0.01 and C = 1.0 "
   ]
  }
 ],
 "metadata": {
  "colab": {
   "collapsed_sections": [],
   "name": "question4.ipynb",
   "provenance": []
  },
  "kernelspec": {
   "display_name": "Python 3",
   "language": "python",
   "name": "python3"
  },
  "language_info": {
   "codemirror_mode": {
    "name": "ipython",
    "version": 3
   },
   "file_extension": ".py",
   "mimetype": "text/x-python",
   "name": "python",
   "nbconvert_exporter": "python",
   "pygments_lexer": "ipython3",
   "version": "3.8.5"
  }
 },
 "nbformat": 4,
 "nbformat_minor": 1
}
